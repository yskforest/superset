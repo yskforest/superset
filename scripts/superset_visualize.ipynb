{
 "cells": [
  {
   "cell_type": "code",
   "execution_count": null,
   "metadata": {},
   "outputs": [],
   "source": [
    "import logging\n",
    "\n",
    "from superset_client import SupersetClient\n",
    "from postgres_client import PostgresClient"
   ]
  },
  {
   "cell_type": "code",
   "execution_count": null,
   "metadata": {},
   "outputs": [],
   "source": [
    "base_url = \"http://localhost:8088\"\n",
    "username = \"admin\"\n",
    "password = \"admin\"\n",
    "db_name = \"PostgreSQL\"\n",
    "\n",
    "# ロギング設定\n",
    "logging.basicConfig(level=logging.DEBUG)\n",
    "client = SupersetClient(base_url, username, password)\n",
    "db_id = client.get_database_id_by_name(db_name)"
   ]
  },
  {
   "cell_type": "code",
   "execution_count": null,
   "metadata": {},
   "outputs": [],
   "source": [
    "user = \"superset\"\n",
    "password = \"superset\"\n",
    "host = \"localhost\"\n",
    "port = 5432\n",
    "dbname = \"superset\"\n",
    "postgres = PostgresClient(user, password, host, port, dbname)"
   ]
  },
  {
   "cell_type": "code",
   "execution_count": null,
   "metadata": {},
   "outputs": [],
   "source": [
    "postgres.create_schema(\"test\")\n",
    "postgres.import_csv_to_postgres(\"../data/cloc_by_file.csv\", table=\"cloc_by_file_test\", schema=\"test\")"
   ]
  },
  {
   "cell_type": "code",
   "execution_count": null,
   "metadata": {},
   "outputs": [],
   "source": [
    "client.create_dataset(\n",
    "    database_id=db_id,\n",
    "    table_name=\"cloc_by_file_test\")"
   ]
  },
  {
   "cell_type": "code",
   "execution_count": null,
   "metadata": {},
   "outputs": [],
   "source": [
    "res = client.get(\"/api/v1/dataset/\")\n",
    "print(res.json())"
   ]
  },
  {
   "cell_type": "code",
   "execution_count": null,
   "metadata": {},
   "outputs": [],
   "source": [
    "params = {\n",
    "    \"query_mode\": \"aggregate\",\n",
    "    \"groupby\": [\"language\", \"filename\", \"blank\", \"comment\", \"code\"],\n",
    "    \"time_grain_sqla\": \"P1D\",\n",
    "    \"row_limit\": 1000,\n",
    "    \"server_page_length\": 10,\n",
    "    \"order_desc\": True,\n",
    "    \"table_timestamp_format\": \"smart_date\",\n",
    "    \"allow_render_html\": True,\n",
    "    \"show_cell_bars\": True,\n",
    "    \"color_pn\": True,\n",
    "    \"comparison_color_scheme\": \"Green\",\n",
    "    \"comparison_type\": \"values\",\n",
    "}\n",
    "chart_id = client.create_chart(1, \"test_chart\", viz_type=\"table\", params=params)\n",
    "chart_id"
   ]
  },
  {
   "cell_type": "code",
   "execution_count": null,
   "metadata": {},
   "outputs": [],
   "source": [
    "params = {\n",
    "    \"datasource\": \"1__table\",\n",
    "    \"viz_type\": \"pie\",\n",
    "    \"groupby\": [\"language\"],\n",
    "    \"metric\": {\n",
    "        \"expressionType\": \"SIMPLE\",\n",
    "        \"column\": {\n",
    "            \"column_name\": \"code\",\n",
    "            \"id\": 5,\n",
    "            \"is_certified\": \"false\",\n",
    "            \"is_dttm\": \"false\",\n",
    "            \"type\": \"BIGINT\",\n",
    "            \"type_generic\": 0,\n",
    "        },\n",
    "        \"aggregate\": \"SUM\",\n",
    "        \"datasourceWarning\": \"false\",\n",
    "        \"hasCustomLabel\": \"false\",\n",
    "        \"label\": \"SUM(code)\",\n",
    "        \"optionName\": \"metric_l0sai2vwraf_uh5hnke6dc\",\n",
    "    },\n",
    "    \"row_limit\": 100,\n",
    "    \"sort_by_metric\": True,\n",
    "    \"color_scheme\": \"supersetColors\",\n",
    "    \"show_labels_threshold\": 5,\n",
    "    \"show_legend\": True,\n",
    "    \"legendType\": \"scroll\",\n",
    "    \"legendOrientation\": \"top\",\n",
    "    \"label_type\": \"key_value_percent\",\n",
    "    \"number_format\": \"SMART_NUMBER\",\n",
    "    \"date_format\": \"smart_date\",\n",
    "    \"show_labels\": True,\n",
    "    \"labels_outside\": True,\n",
    "    \"label_line\": \"false\",\n",
    "    \"show_total\": True,\n",
    "    \"outerRadius\": 70,\n",
    "    \"donut\": True,\n",
    "    \"innerRadius\": 30,\n",
    "}\n",
    "chart_id = client.create_chart(1, \"pie_test\", viz_type=\"pie\", params=params)\n",
    "chart_id"
   ]
  },
  {
   "cell_type": "code",
   "execution_count": null,
   "metadata": {},
   "outputs": [],
   "source": [
    "res = client.get(\"/api/v1/chart/9\")\n",
    "ret = res.json()[\"result\"][\"params\"]\n",
    "print(ret)"
   ]
  },
  {
   "cell_type": "code",
   "execution_count": null,
   "metadata": {},
   "outputs": [],
   "source": [
    "client.get_dataset_id_by_name(\"cloc_by_file_test\")"
   ]
  }
 ],
 "metadata": {
  "kernelspec": {
   "display_name": "venv",
   "language": "python",
   "name": "python3"
  },
  "language_info": {
   "codemirror_mode": {
    "name": "ipython",
    "version": 3
   },
   "file_extension": ".py",
   "mimetype": "text/x-python",
   "name": "python",
   "nbconvert_exporter": "python",
   "pygments_lexer": "ipython3",
   "version": "3.12.3"
  }
 },
 "nbformat": 4,
 "nbformat_minor": 2
}
